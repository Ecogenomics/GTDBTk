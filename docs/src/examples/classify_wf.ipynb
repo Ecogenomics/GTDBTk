{
 "cells": [
  {
   "cell_type": "markdown",
   "metadata": {},
   "source": [
    "# Example\n",
    "\n",
    "This jupyter notebook demonstrates how to run the `classify_wf` command on a set of test genomes.\n",
    "\n",
    "For a full list of commands see:\n",
    "* `gtdbtk -h`, or\n",
    "* [GTDB-Tk commands](https://ecogenomics.github.io/GTDBTk/commands/)\n"
   ]
  },
  {
   "cell_type": "markdown",
   "metadata": {},
   "source": [
    "## Step 1: Obtaining data\n",
    "\n",
    "This example will use the following two genomes that we will refer to as:\n",
    "* Genome A: `GCF_003947435.1` [[GTDB](https://gtdb.ecogenomic.org/genomes?gid=GCF_003947435.1) / [NCBI](https://www.ncbi.nlm.nih.gov/assembly/GCF_003947435.1/)]\n",
    "* Genome B: `GCA_002011125.1` [[GTDB](https://gtdb.ecogenomic.org/genomes?gid=GCA_002011125.1) / [NCBI](https://www.ncbi.nlm.nih.gov/assembly/GCA_002011125.1/)]\n"
   ]
  },
  {
   "cell_type": "code",
   "metadata": {
    "pycharm": {
     "name": "#%%\n"
    }
   },
   "source": [
    "# Create the directory.\n",
    "!mkdir -p /tmp/gtdbtk && cd /tmp/gtdbtk\n",
    "\n",
    "# Obtain the genomes.\n",
    "!mkdir -p /tmp/gtdbtk/genomes\n",
    "!wget -q https://ftp.ncbi.nlm.nih.gov/genomes/all/GCF/003/947/435/GCF_003947435.1_ASM394743v1/GCF_003947435.1_ASM394743v1_genomic.fna.gz -O /tmp/gtdbtk/genomes/genome_a.fna.gz\n",
    "!wget -q https://ftp.ncbi.nlm.nih.gov/genomes/all/GCA/002/011/125/GCA_002011125.1_ASM201112v1/GCA_002011125.1_ASM201112v1_genomic.fna.gz -O /tmp/gtdbtk/genomes/genome_b.fna.gz"
   ],
   "execution_count": 5,
   "outputs": []
  },
  {
   "cell_type": "markdown",
   "metadata": {},
   "source": [
    "## Step 2: Gene calling (identify)\n",
    "\n",
    "Note that the workflow can be run as a single command `classify_wf`, however, each step will be run individually in this notebook. It can sometimes be useful to run the steps individually when processing large pipelines."
   ]
  },
  {
   "cell_type": "code",
   "metadata": {
    "pycharm": {
     "name": "#%%\n"
    }
   },
   "source": [
    "!ls -l /tmp/gtdbtk/genomes"
   ],
   "execution_count": null,
   "outputs": []
  },
  {
   "cell_type": "code",
   "execution_count": 2,
   "outputs": [
    {
     "name": "stdout",
     "output_type": "stream",
     "text": [
      "[2022-04-11 11:48:59] \u001B[1mINFO:\u001B[0m GTDB-Tk v2.0.0\r\n",
      "[2022-04-11 11:48:59] \u001B[1mINFO:\u001B[0m gtdbtk identify --genome_dir /tmp/gtdbtk/genomes --out_dir /tmp/gtdbtk/identify --extension gz --cpus 2\r\n",
      "[2022-04-11 11:48:59] \u001B[1mINFO:\u001B[0m Using GTDB-Tk reference data version r207: /srv/db/gtdbtk/official/release207\r\n",
      "[2022-04-11 11:48:59] \u001B[1mINFO:\u001B[0m Identifying markers in 2 genomes with 2 threads.\r\n",
      "[2022-04-11 11:48:59] \u001B[1mTASK:\u001B[0m Running Prodigal V2.6.3 to identify genes.\r\n",
      "[2022-04-11 11:49:10] \u001B[1mINFO:\u001B[0m Completed 2 genomes in 10.94 seconds (5.47 seconds/genome).\r\n",
      "[2022-04-11 11:49:10] \u001B[1mTASK:\u001B[0m Identifying TIGRFAM protein families.    \r\n",
      "[2022-04-11 11:49:16] \u001B[1mINFO:\u001B[0m Completed 2 genomes in 5.78 seconds (2.89 seconds/genome).\r\n",
      "[2022-04-11 11:49:16] \u001B[1mTASK:\u001B[0m Identifying Pfam protein families.       \r\n",
      "[2022-04-11 11:49:16] \u001B[1mINFO:\u001B[0m Completed 2 genomes in 0.42 seconds (4.81 genomes/second).\r\n",
      "[2022-04-11 11:49:16] \u001B[1mINFO:\u001B[0m Annotations done using HMMER 3.1b2 (February 2015).\r\n",
      "[2022-04-11 11:49:16] \u001B[1mTASK:\u001B[0m Summarising identified marker genes.\r\n",
      "[2022-04-11 11:49:16] \u001B[1mINFO:\u001B[0m Completed 2 genomes in 0.05 seconds (40.91 genomes/second).\r\n",
      "[2022-04-11 11:49:16] \u001B[1mINFO:\u001B[0m Done.\r\n"
     ]
    }
   ],
   "source": [
    "!gtdbtk identify --genome_dir /tmp/gtdbtk/genomes --out_dir /tmp/gtdbtk/identify --extension gz --cpus 2"
   ],
   "metadata": {
    "collapsed": false,
    "pycharm": {
     "name": "#%%\n"
    }
   }
  },
  {
   "cell_type": "markdown",
   "metadata": {},
   "source": [
    "### Results\n",
    "\n",
    "The called genes and marker information can be found under each genomes respeective intermediate files directory, as shown below."
   ]
  },
  {
   "cell_type": "code",
   "execution_count": 4,
   "metadata": {},
   "outputs": [
    {
     "name": "stdout",
     "output_type": "stream",
     "text": [
      "genome_a.fna_pfam_tophit.tsv\t     genome_a.fna_protein.gff.sha256\r\n",
      "genome_a.fna_pfam_tophit.tsv.sha256  genome_a.fna_tigrfam.out\r\n",
      "genome_a.fna_pfam.tsv\t\t     genome_a.fna_tigrfam.out.sha256\r\n",
      "genome_a.fna_pfam.tsv.sha256\t     genome_a.fna_tigrfam_tophit.tsv\r\n",
      "genome_a.fna_protein.faa\t     genome_a.fna_tigrfam_tophit.tsv.sha256\r\n",
      "genome_a.fna_protein.faa.sha256      genome_a.fna_tigrfam.tsv\r\n",
      "genome_a.fna_protein.fna\t     genome_a.fna_tigrfam.tsv.sha256\r\n",
      "genome_a.fna_protein.fna.sha256      prodigal_translation_table.tsv\r\n",
      "genome_a.fna_protein.gff\t     prodigal_translation_table.tsv.sha256\r\n"
     ]
    }
   ],
   "source": [
    "!ls /tmp/gtdbtk/identify/identify/intermediate_results/marker_genes/genome_a.fna/"
   ]
  },
  {
   "cell_type": "markdown",
   "metadata": {},
   "source": [
    "However, it is sometimes more useful to just read the summary files which detail markers identified from either the archaeal 53, or bacterial 120 marker set."
   ]
  },
  {
   "cell_type": "code",
   "execution_count": 5,
   "metadata": {},
   "outputs": [
    {
     "name": "stdout",
     "output_type": "stream",
     "text": [
      "name\tnumber_unique_genes\tnumber_multiple_genes\tnumber_multiple_unique_genes\tnumber_missing_genes\tlist_unique_genes\tlist_multiple_genes\tlist_multiple_unique_genes\tlist_missing_genes\r\n",
      "genome_a.fna\t44\t0\t0\t9\tPF00410.20,PF00466.21,PF00687.22,PF00827.18,PF00900.21,PF01000.27,PF01015.19,PF01090.20,PF01200.19,PF01280.21,PF04919.13,PF07541.13,TIGR00037,TIGR00111,TIGR00134,TIGR00279,TIGR00291,TIGR00323,TIGR00335,TIGR00405,TIGR00448,TIGR00483,TIGR00491,TIGR00967,TIGR00982,TIGR01008,TIGR01012,TIGR01018,TIGR01020,TIGR01028,TIGR01046,TIGR01052,TIGR01213,TIGR01952,TIGR02236,TIGR02390,TIGR03626,TIGR03627,TIGR03628,TIGR03671,TIGR03672,TIGR03674,TIGR03676,TIGR03680\t\t\tTIGR00064,TIGR00373,TIGR00522,TIGR01171,TIGR02338,TIGR02389,TIGR03629,TIGR03670,TIGR03673\r\n",
      "genome_b.fna\t50\t0\t0\t3\tPF00410.20,PF00466.21,PF00687.22,PF00827.18,PF00900.21,PF01000.27,PF01015.19,PF01090.20,PF01200.19,PF01280.21,PF04919.13,PF07541.13,TIGR00037,TIGR00064,TIGR00111,TIGR00134,TIGR00279,TIGR00291,TIGR00323,TIGR00335,TIGR00373,TIGR00405,TIGR00448,TIGR00483,TIGR00491,TIGR00522,TIGR00967,TIGR00982,TIGR01008,TIGR01012,TIGR01018,TIGR01020,TIGR01028,TIGR01046,TIGR01052,TIGR01952,TIGR02236,TIGR02338,TIGR02389,TIGR02390,TIGR03626,TIGR03628,TIGR03629,TIGR03670,TIGR03671,TIGR03672,TIGR03673,TIGR03674,TIGR03676,TIGR03680\t\t\tTIGR01171,TIGR01213,TIGR03627\r\n"
     ]
    }
   ],
   "source": [
    "!cat /tmp/gtdbtk/identify/identify/gtdbtk.ar53.markers_summary.tsv"
   ]
  },
  {
   "cell_type": "markdown",
   "metadata": {},
   "source": [
    "## Step 3: Aligning genomes (align)\n",
    "\n",
    "The align step will align all identified markers, determine the most likely domain and output a concatenated MSA."
   ]
  },
  {
   "cell_type": "code",
   "execution_count": 7,
   "metadata": {},
   "outputs": [
    {
     "name": "stdout",
     "output_type": "stream",
     "text": [
      "[2022-04-11 11:59:14] \u001B[1mINFO:\u001B[0m GTDB-Tk v2.0.0\r\n",
      "[2022-04-11 11:59:14] \u001B[1mINFO:\u001B[0m gtdbtk align --identify_dir /tmp/gtdbtk/identify --out_dir /tmp/gtdbtk/align --cpus 2\r\n",
      "[2022-04-11 11:59:14] \u001B[1mINFO:\u001B[0m Using GTDB-Tk reference data version r207: /srv/db/gtdbtk/official/release207\r\n",
      "[2022-04-11 11:59:15] \u001B[1mINFO:\u001B[0m Aligning markers in 2 genomes with 2 CPUs.\r\n",
      "[2022-04-11 11:59:16] \u001B[1mINFO:\u001B[0m Processing 2 genomes identified as archaeal.\r\n",
      "[2022-04-11 11:59:16] \u001B[1mINFO:\u001B[0m Read concatenated alignment for 3,412 GTDB genomes.\r\n",
      "[2022-04-11 11:59:16] \u001B[1mTASK:\u001B[0m Generating concatenated alignment for each marker.\r\n",
      "[2022-04-11 11:59:16] \u001B[1mINFO:\u001B[0m Completed 2 genomes in 0.01 seconds (139.73 genomes/second).\r\n",
      "[2022-04-11 11:59:16] \u001B[1mTASK:\u001B[0m Aligning 52 identified markers using hmmalign 3.1b2 (February 2015).\r\n",
      "[2022-04-11 11:59:17] \u001B[1mINFO:\u001B[0m Completed 52 markers in 0.86 seconds (60.66 markers/second).\r\n",
      "[2022-04-11 11:59:17] \u001B[1mTASK:\u001B[0m Masking columns of archaeal multiple sequence alignment using canonical mask.\r\n",
      "[2022-04-11 11:59:21] \u001B[1mINFO:\u001B[0m Completed 3,414 sequences in 4.19 seconds (815.22 sequences/second).\r\n",
      "[2022-04-11 11:59:21] \u001B[1mINFO:\u001B[0m Masked archaeal alignment from 13,540 to 10,153 AAs.\r\n",
      "[2022-04-11 11:59:21] \u001B[1mINFO:\u001B[0m 0 archaeal user genomes have amino acids in <10.0% of columns in filtered MSA.\r\n",
      "[2022-04-11 11:59:21] \u001B[1mINFO:\u001B[0m Creating concatenated alignment for 3,414 archaeal GTDB and user genomes.\r\n",
      "[2022-04-11 11:59:23] \u001B[1mINFO:\u001B[0m Creating concatenated alignment for 2 archaeal user genomes.\r\n",
      "[2022-04-11 11:59:23] \u001B[1mINFO:\u001B[0m Done.\r\n"
     ]
    }
   ],
   "source": [
    "!gtdbtk align --identify_dir /tmp/gtdbtk/identify --out_dir /tmp/gtdbtk/align --cpus 2"
   ]
  },
  {
   "cell_type": "markdown",
   "metadata": {},
   "source": [
    "### Results\n",
    "It is important to pay attention to the output, if a genome had a low number of markers identified it will be excluded from the analysis at this step. A warning will appear if that is the case.\n",
    "\n",
    "Depending on the domain, a prefixed file of either `ar53` or `bac120` will appear containing the MSA of the user genomes and the GTDB genomes, or just the user genomes (`gtdbtk.ar53.msa.fasta.gz` and `gtdbtk.ar53.user_msa.fasta.gz` respectively.)"
   ]
  },
  {
   "cell_type": "code",
   "execution_count": 8,
   "metadata": {},
   "outputs": [
    {
     "name": "stdout",
     "output_type": "stream",
     "text": [
      "gtdbtk.ar53.filtered.tsv  gtdbtk.ar53.user_msa.fasta.gz\r\n",
      "gtdbtk.ar53.msa.fasta.gz  intermediate_results\r\n"
     ]
    }
   ],
   "source": [
    "!ls /tmp/gtdbtk/align/align/"
   ]
  },
  {
   "cell_type": "markdown",
   "metadata": {},
   "source": [
    "## Step 4: Classifying genomes (classify)\n",
    "The classify step will place the genomes into a reference tree, then determine their most likely classification."
   ]
  },
  {
   "cell_type": "code",
   "metadata": {
    "ExecuteTime": {
     "end_time": "2025-08-05T11:23:10.254077Z",
     "start_time": "2025-08-05T11:23:10.128951Z"
    }
   },
   "source": "!gtdbtk classify --genome_dir /tmp/gtdbtk/genomes --align_dir /tmp/gtdbtk/align --out_dir /tmp/gtdbtk/classify -x gz --cpus 2",
   "outputs": [
    {
     "name": "stdout",
     "output_type": "stream",
     "text": [
      "/bin/bash: gtdbtk: command not found\r\n"
     ]
    }
   ],
   "execution_count": 2
  },
  {
   "cell_type": "markdown",
   "metadata": {},
   "source": [
    "### Results\n",
    "The two main files output are the summary files (`gtdbtk.ar53.summary.tsv`, and `gtdbtk.bac120.summary.tsv` respectively). Classification of the genomes are present in the summary file."
   ]
  },
  {
   "cell_type": "code",
   "execution_count": 10,
   "metadata": {},
   "outputs": [
    {
     "name": "stdout",
     "output_type": "stream",
     "text": [
      "classify  gtdbtk.ar53.summary.tsv  gtdbtk.log  gtdbtk.warnings.log\r\n"
     ]
    }
   ],
   "source": [
    "!ls /tmp/gtdbtk/classify"
   ]
  },
  {
   "cell_type": "code",
   "execution_count": null,
   "outputs": [],
   "source": [],
   "metadata": {
    "collapsed": false,
    "pycharm": {
     "name": "#%%\n"
    }
   }
  }
 ],
 "metadata": {
  "kernelspec": {
   "name": "python3",
   "language": "python",
   "display_name": "Python 3"
  },
  "language_info": {
   "codemirror_mode": "shell",
   "file_extension": ".sh",
   "mimetype": "text/x-sh",
   "name": "bash"
  }
 },
 "nbformat": 4,
 "nbformat_minor": 4
}
